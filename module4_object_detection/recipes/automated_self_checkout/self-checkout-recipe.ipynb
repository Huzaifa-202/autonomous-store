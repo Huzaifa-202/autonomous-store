{
 "cells": [
  {
   "cell_type": "code",
   "execution_count": 1,
   "id": "dc6c71ce-b870-4558-8812-be294758d384",
   "metadata": {
    "scrolled": true
   },
   "outputs": [],
   "source": [
    "#!pip install -r requirements.txt\n",
    "\n",
    "from IPython import display\n",
    "display.clear_output()"
   ]
  },
  {
   "cell_type": "code",
   "execution_count": 2,
   "id": "93d7fce1-dd43-41df-b320-bb8201d06415",
   "metadata": {},
   "outputs": [
    {
     "name": "stderr",
     "output_type": "stream",
     "text": [
      "WARNING ⚠️ Ultralytics settings reset to defaults. This is normal and may be due to a recent ultralytics package update, but may have overwritten previous settings. \n",
      "View and update settings with 'yolo settings' or at '/Users/huraira/Library/Application Support/Ultralytics/settings.yaml'\n"
     ]
    }
   ],
   "source": [
    "import supervision as sv\n",
    "from ultralytics import YOLO\n",
    "import cv2\n",
    "import numpy as np\n",
    "from pathlib import Path\n",
    "from collections import Counter\n",
    "import logging as log\n",
    "import json\n",
    "\n",
    "log.basicConfig(level=log.INFO)"
   ]
  },
  {
   "cell_type": "code",
   "execution_count": 3,
   "id": "e5176a81-64ee-456e-8efb-93e7711811a5",
   "metadata": {},
   "outputs": [],
   "source": [
    "\n",
    "model = YOLO(\"yolov8m.pt\")\n",
    "label_map = model.names\n"
   ]
  },
  {
   "cell_type": "code",
   "execution_count": 4,
   "id": "98ad8ac8-1a62-4c4b-9408-db86f7c7ce51",
   "metadata": {},
   "outputs": [
    {
     "name": "stdout",
     "output_type": "stream",
     "text": [
      "VideoInfo(width=3840, height=2160, fps=29, total_frames=640)\n"
     ]
    }
   ],
   "source": [
    "import supervision as sv\n",
    "\n",
    "# Load in our sample video\n",
    "VID_PATH = \"/Users/huraira/Desktop/Module3/openvino_notebooks/recipes/automated_self_checkout/data/example.mp4\"\n",
    "\n",
    "# Show the dimensions and additional information from the video\n",
    "video_info = sv.VideoInfo.from_video_path(VID_PATH)\n",
    "print(video_info)\n"
   ]
  },
  {
   "cell_type": "code",
   "execution_count": 5,
   "id": "6cb899ca-737b-4626-a494-0f7101898482",
   "metadata": {},
   "outputs": [
    {
     "data": {
      "text/plain": [
       "True"
      ]
     },
     "execution_count": 5,
     "metadata": {},
     "output_type": "execute_result"
    }
   ],
   "source": [
    "#Extract a single frame from the video\n",
    "generator = sv.get_video_frames_generator(VID_PATH)\n",
    "iterator = iter(generator)\n",
    "frame = next(iterator)\n",
    "#Save the frame\n",
    "cv2.imwrite(\"frame.jpg\", frame)"
   ]
  },
  {
   "cell_type": "code",
   "execution_count": 6,
   "id": "4f470947-5887-422b-81b4-5cf2b4ed64cc",
   "metadata": {},
   "outputs": [],
   "source": [
    "def load_zones(json_path, zone_str):\n",
    "    \"\"\"\n",
    "        Load zones specified in an external json file\n",
    "        Parameters:\n",
    "            json_path: path to the json file with defined zones\n",
    "            zone_str:  name of the zone in the json file\n",
    "        Returns:\n",
    "           zones: a list of arrays with zone points\n",
    "    \"\"\"\n",
    "    # load json file\n",
    "    with open(json_path) as f:\n",
    "        zones_dict = json.load(f)\n",
    "    # return a list of zones defined by points\n",
    "    return np.array(zones_dict[zone_str][\"points\"], np.int32)"
   ]
  },
  {
   "cell_type": "code",
   "execution_count": 7,
   "id": "ccca375c-b219-4e50-93a8-75fe6e8811c9",
   "metadata": {},
   "outputs": [
    {
     "data": {
      "text/plain": [
       "array([[ 776,  321],\n",
       "       [3092,  305],\n",
       "       [3112, 1965],\n",
       "       [ 596, 2005],\n",
       "       [ 768,  321]], dtype=int32)"
      ]
     },
     "execution_count": 7,
     "metadata": {},
     "output_type": "execute_result"
    }
   ],
   "source": [
    "polygon = load_zones(\"zones.json\", \"test-example-1\")\n",
    "polygon"
   ]
  },
  {
   "cell_type": "code",
   "execution_count": 8,
   "id": "6bff6ee2-d595-42a6-8491-4377f8cf3b6b",
   "metadata": {},
   "outputs": [],
   "source": [
    "zone = sv.PolygonZone(polygon=polygon, frame_resolution_wh=video_info.resolution_wh)\n",
    "box_annotator = sv.BoxAnnotator(thickness=4, text_thickness=4, text_scale=2)\n",
    "zone_annotator = sv.PolygonZoneAnnotator(zone=zone, color=sv.Color.white(), thickness=6, text_thickness=6, text_scale=4)"
   ]
  },
  {
   "cell_type": "code",
   "execution_count": 9,
   "id": "bb92d49c-45d4-4f04-83af-411a1d92f0a0",
   "metadata": {},
   "outputs": [],
   "source": [
    "def draw_text(image, text, point, color=(255, 255, 255)) -> None:\n",
    "    \"\"\"\n",
    "    Draws text\n",
    "\n",
    "    Parameters:\n",
    "        image: image to draw on\n",
    "        text: text to draw\n",
    "        point:\n",
    "        color: text color\n",
    "    \"\"\"\n",
    "    _, f_width = image.shape[:2]\n",
    "    \n",
    "    text_size, _ = cv2.getTextSize(text, fontFace=cv2.FONT_HERSHEY_SIMPLEX, fontScale=2, thickness=2)\n",
    "\n",
    "    rect_width = text_size[0] + 20\n",
    "    rect_height = text_size[1] + 20\n",
    "    rect_x, rect_y = point\n",
    "\n",
    "    cv2.rectangle(image, pt1=(rect_x, rect_y), pt2=(rect_x + rect_width, rect_y + rect_height), color=(255, 255, 255), thickness=cv2.FILLED)\n",
    "\n",
    "    text_x = (rect_x + (rect_width - text_size[0]) // 2) - 10\n",
    "    text_y = (rect_y + (rect_height + text_size[1]) // 2) - 10\n",
    "    \n",
    "    cv2.putText(image, text=text, org=(text_x, text_y), fontFace=cv2.FONT_HERSHEY_SIMPLEX, fontScale=2, color=color, thickness=2, lineType=cv2.LINE_AA)"
   ]
  },
  {
   "cell_type": "code",
   "execution_count": 10,
   "id": "ca866c33-7363-4232-a97f-1eccfe72b1c3",
   "metadata": {},
   "outputs": [],
   "source": [
    "def get_iou(person_det, object_det):\n",
    "    #Obtain the Intersection \n",
    "    x_left = max(person_det[0], object_det[0])\n",
    "    y_top = max(person_det[1], object_det[1])\n",
    "    x_right = min(person_det[2], object_det[2])\n",
    "    y_bottom = min(person_det[3], object_det[3])\n",
    "    if x_right < x_left or y_bottom < y_top:\n",
    "        return 0.0\n",
    "    intersection_area = (x_right - x_left) * (y_bottom - y_top)\n",
    "\n",
    "    person_area = (person_det[2] - person_det[0]) * (person_det[3] - person_det[1])\n",
    "    obj_area = (object_det[2] - object_det[0]) * (object_det[3] - object_det[1])\n",
    "    \n",
    "    return intersection_area / float(person_area + obj_area - intersection_area)"
   ]
  },
  {
   "cell_type": "code",
   "execution_count": 11,
   "id": "b7706a43-c90e-450e-a6eb-38360fd6ed2e",
   "metadata": {},
   "outputs": [],
   "source": [
    "def intersecting_bboxes(bboxes, person_bbox, action_str):\n",
    "    #Identify if person and object bounding boxes are intersecting using IOU\n",
    "    for box in bboxes:\n",
    "      if box.cls == 0:\n",
    "          #If it is a person\n",
    "          try:\n",
    "              person_bbox.append([box.xyxy[0], box.id.numpy().astype(int)])\n",
    "          except:\n",
    "              pass\n",
    "      elif box.cls != 0 and len(person_bbox) >= 1:\n",
    "          #If it is not a person and an interaction took place with a person\n",
    "          for p_bbox in person_bbox:\n",
    "              if box.cls != 0:\n",
    "                  result_iou = get_iou(p_bbox[0], box.xyxy[0])\n",
    "                  if result_iou > 0:\n",
    "                     try:\n",
    "                        person_intersection_str = f\"Person #{p_bbox[1][0]} interacted with object #{int(box.id[0])} {label_map[int(box.cls[0])]}\"\n",
    "                     except:\n",
    "                         person_intersection_str = f\"Person {p_bbox[1][0]} interacted with object (ID unable to be assigned) {label_map[int(box.cls[0])]}\"\n",
    "                     #log.info(person_intersection_str)\n",
    "                     person_action_str = action_str + f\" by person {p_bbox[1][0]}\"\n",
    "                     return person_action_str"
   ]
  },
  {
   "cell_type": "code",
   "execution_count": 12,
   "id": "6d5c80ab",
   "metadata": {},
   "outputs": [
    {
     "name": "stdout",
     "output_type": "stream",
     "text": [
      "Requirement already satisfied: firebase-admin in ./venv/lib/python3.8/site-packages (6.6.0)\n",
      "Requirement already satisfied: cachecontrol>=0.12.14 in ./venv/lib/python3.8/site-packages (from firebase-admin) (0.14.1)\n",
      "Requirement already satisfied: google-api-python-client>=1.7.8 in ./venv/lib/python3.8/site-packages (from firebase-admin) (2.155.0)\n",
      "Requirement already satisfied: google-cloud-storage>=1.37.1 in ./venv/lib/python3.8/site-packages (from firebase-admin) (2.19.0)\n",
      "Requirement already satisfied: pyjwt>=2.5.0 in ./venv/lib/python3.8/site-packages (from pyjwt[crypto]>=2.5.0->firebase-admin) (2.9.0)\n",
      "Requirement already satisfied: google-api-core<3.0.0dev,>=1.22.1 in ./venv/lib/python3.8/site-packages (from google-api-core[grpc]<3.0.0dev,>=1.22.1; platform_python_implementation != \"PyPy\"->firebase-admin) (2.24.0)\n",
      "Requirement already satisfied: google-cloud-firestore>=2.19.0 in ./venv/lib/python3.8/site-packages (from firebase-admin) (2.19.0)\n",
      "Requirement already satisfied: requests>=2.16.0 in ./venv/lib/python3.8/site-packages (from cachecontrol>=0.12.14->firebase-admin) (2.32.3)\n",
      "Requirement already satisfied: msgpack<2.0.0,>=0.5.2 in ./venv/lib/python3.8/site-packages (from cachecontrol>=0.12.14->firebase-admin) (1.1.0)\n",
      "Requirement already satisfied: googleapis-common-protos<2.0.dev0,>=1.56.2 in ./venv/lib/python3.8/site-packages (from google-api-core<3.0.0dev,>=1.22.1->google-api-core[grpc]<3.0.0dev,>=1.22.1; platform_python_implementation != \"PyPy\"->firebase-admin) (1.66.0)\n",
      "Requirement already satisfied: protobuf!=3.20.0,!=3.20.1,!=4.21.0,!=4.21.1,!=4.21.2,!=4.21.3,!=4.21.4,!=4.21.5,<6.0.0.dev0,>=3.19.5 in ./venv/lib/python3.8/site-packages (from google-api-core<3.0.0dev,>=1.22.1->google-api-core[grpc]<3.0.0dev,>=1.22.1; platform_python_implementation != \"PyPy\"->firebase-admin) (5.28.2)\n",
      "Requirement already satisfied: proto-plus<2.0.0dev,>=1.22.3 in ./venv/lib/python3.8/site-packages (from google-api-core<3.0.0dev,>=1.22.1->google-api-core[grpc]<3.0.0dev,>=1.22.1; platform_python_implementation != \"PyPy\"->firebase-admin) (1.25.0)\n",
      "Requirement already satisfied: google-auth<3.0.dev0,>=2.14.1 in ./venv/lib/python3.8/site-packages (from google-api-core<3.0.0dev,>=1.22.1->google-api-core[grpc]<3.0.0dev,>=1.22.1; platform_python_implementation != \"PyPy\"->firebase-admin) (2.37.0)\n",
      "Requirement already satisfied: grpcio<2.0dev,>=1.33.2 in ./venv/lib/python3.8/site-packages (from google-api-core[grpc]<3.0.0dev,>=1.22.1; platform_python_implementation != \"PyPy\"->firebase-admin) (1.68.1)\n",
      "Requirement already satisfied: grpcio-status<2.0.dev0,>=1.33.2 in ./venv/lib/python3.8/site-packages (from google-api-core[grpc]<3.0.0dev,>=1.22.1; platform_python_implementation != \"PyPy\"->firebase-admin) (1.68.1)\n",
      "Requirement already satisfied: httplib2<1.dev0,>=0.19.0 in ./venv/lib/python3.8/site-packages (from google-api-python-client>=1.7.8->firebase-admin) (0.22.0)\n",
      "Requirement already satisfied: google-auth-httplib2<1.0.0,>=0.2.0 in ./venv/lib/python3.8/site-packages (from google-api-python-client>=1.7.8->firebase-admin) (0.2.0)\n",
      "Requirement already satisfied: uritemplate<5,>=3.0.1 in ./venv/lib/python3.8/site-packages (from google-api-python-client>=1.7.8->firebase-admin) (4.1.1)\n",
      "Requirement already satisfied: google-cloud-core<3.0.0dev,>=1.4.1 in ./venv/lib/python3.8/site-packages (from google-cloud-firestore>=2.19.0->firebase-admin) (2.4.1)\n",
      "Requirement already satisfied: google-resumable-media>=2.7.2 in ./venv/lib/python3.8/site-packages (from google-cloud-storage>=1.37.1->firebase-admin) (2.7.2)\n",
      "Requirement already satisfied: google-crc32c<2.0dev,>=1.0 in ./venv/lib/python3.8/site-packages (from google-cloud-storage>=1.37.1->firebase-admin) (1.5.0)\n",
      "Requirement already satisfied: cryptography>=3.4.0 in ./venv/lib/python3.8/site-packages (from pyjwt[crypto]>=2.5.0->firebase-admin) (44.0.0)\n",
      "Requirement already satisfied: cffi>=1.12 in ./venv/lib/python3.8/site-packages (from cryptography>=3.4.0->pyjwt[crypto]>=2.5.0->firebase-admin) (1.17.1)\n",
      "Requirement already satisfied: cachetools<6.0,>=2.0.0 in ./venv/lib/python3.8/site-packages (from google-auth<3.0.dev0,>=2.14.1->google-api-core<3.0.0dev,>=1.22.1->google-api-core[grpc]<3.0.0dev,>=1.22.1; platform_python_implementation != \"PyPy\"->firebase-admin) (5.5.0)\n",
      "Requirement already satisfied: pyasn1-modules>=0.2.1 in ./venv/lib/python3.8/site-packages (from google-auth<3.0.dev0,>=2.14.1->google-api-core<3.0.0dev,>=1.22.1->google-api-core[grpc]<3.0.0dev,>=1.22.1; platform_python_implementation != \"PyPy\"->firebase-admin) (0.4.1)\n",
      "Requirement already satisfied: rsa<5,>=3.1.4 in ./venv/lib/python3.8/site-packages (from google-auth<3.0.dev0,>=2.14.1->google-api-core<3.0.0dev,>=1.22.1->google-api-core[grpc]<3.0.0dev,>=1.22.1; platform_python_implementation != \"PyPy\"->firebase-admin) (4.9)\n",
      "Requirement already satisfied: pyparsing!=3.0.0,!=3.0.1,!=3.0.2,!=3.0.3,<4,>=2.4.2 in ./venv/lib/python3.8/site-packages (from httplib2<1.dev0,>=0.19.0->google-api-python-client>=1.7.8->firebase-admin) (2.4.7)\n",
      "Requirement already satisfied: charset-normalizer<4,>=2 in ./venv/lib/python3.8/site-packages (from requests>=2.16.0->cachecontrol>=0.12.14->firebase-admin) (3.4.0)\n",
      "Requirement already satisfied: idna<4,>=2.5 in ./venv/lib/python3.8/site-packages (from requests>=2.16.0->cachecontrol>=0.12.14->firebase-admin) (3.10)\n",
      "Requirement already satisfied: urllib3<3,>=1.21.1 in ./venv/lib/python3.8/site-packages (from requests>=2.16.0->cachecontrol>=0.12.14->firebase-admin) (2.2.3)\n",
      "Requirement already satisfied: certifi>=2017.4.17 in ./venv/lib/python3.8/site-packages (from requests>=2.16.0->cachecontrol>=0.12.14->firebase-admin) (2024.8.30)\n",
      "Requirement already satisfied: pycparser in ./venv/lib/python3.8/site-packages (from cffi>=1.12->cryptography>=3.4.0->pyjwt[crypto]>=2.5.0->firebase-admin) (2.22)\n",
      "Requirement already satisfied: pyasn1<0.7.0,>=0.4.6 in ./venv/lib/python3.8/site-packages (from pyasn1-modules>=0.2.1->google-auth<3.0.dev0,>=2.14.1->google-api-core<3.0.0dev,>=1.22.1->google-api-core[grpc]<3.0.0dev,>=1.22.1; platform_python_implementation != \"PyPy\"->firebase-admin) (0.6.1)\n",
      "\n",
      "\u001b[1m[\u001b[0m\u001b[34;49mnotice\u001b[0m\u001b[1;39;49m]\u001b[0m\u001b[39;49m A new release of pip is available: \u001b[0m\u001b[31;49m24.2\u001b[0m\u001b[39;49m -> \u001b[0m\u001b[32;49m24.3.1\u001b[0m\n",
      "\u001b[1m[\u001b[0m\u001b[34;49mnotice\u001b[0m\u001b[1;39;49m]\u001b[0m\u001b[39;49m To update, run: \u001b[0m\u001b[32;49mpip install --upgrade pip\u001b[0m\n",
      "Note: you may need to restart the kernel to use updated packages.\n"
     ]
    }
   ],
   "source": [
    "pip install firebase-admin\n"
   ]
  },
  {
   "cell_type": "code",
   "execution_count": 17,
   "id": "cb5514d2",
   "metadata": {},
   "outputs": [
    {
     "ename": "ValueError",
     "evalue": "Firebase app named \"new_app\" already exists. This means you called initialize_app() more than once with the same app name as the second argument. Make sure you provide a unique name every time you call initialize_app().",
     "output_type": "error",
     "traceback": [
      "\u001b[0;31m---------------------------------------------------------------------------\u001b[0m",
      "\u001b[0;31mValueError\u001b[0m                                Traceback (most recent call last)",
      "Cell \u001b[0;32mIn[17], line 5\u001b[0m\n\u001b[1;32m      3\u001b[0m \u001b[38;5;66;03m# Reinitialize a new Firebase app with a unique name\u001b[39;00m\n\u001b[1;32m      4\u001b[0m cred \u001b[38;5;241m=\u001b[39m credentials\u001b[38;5;241m.\u001b[39mCertificate(\u001b[38;5;124m'\u001b[39m\u001b[38;5;124m/Users/huraira/Desktop/Module3/openvino_notebooks/fbis-19de1-firebase-adminsdk-idgon-e51fea33fe.json\u001b[39m\u001b[38;5;124m'\u001b[39m)\n\u001b[0;32m----> 5\u001b[0m \u001b[43mfirebase_admin\u001b[49m\u001b[38;5;241;43m.\u001b[39;49m\u001b[43minitialize_app\u001b[49m\u001b[43m(\u001b[49m\u001b[43mcred\u001b[49m\u001b[43m,\u001b[49m\u001b[43m \u001b[49m\u001b[43m{\u001b[49m\n\u001b[1;32m      6\u001b[0m \u001b[43m    \u001b[49m\u001b[38;5;124;43m\"\u001b[39;49m\u001b[38;5;124;43mdatabaseURL\u001b[39;49m\u001b[38;5;124;43m\"\u001b[39;49m\u001b[43m:\u001b[49m\u001b[43m \u001b[49m\u001b[38;5;124;43m\"\u001b[39;49m\u001b[38;5;124;43mhttps://fbis-19de1-default-rtdb.firebaseio.com/\u001b[39;49m\u001b[38;5;124;43m\"\u001b[39;49m\n\u001b[1;32m      7\u001b[0m \u001b[43m}\u001b[49m\u001b[43m,\u001b[49m\u001b[43m \u001b[49m\u001b[43mname\u001b[49m\u001b[38;5;241;43m=\u001b[39;49m\u001b[38;5;124;43m\"\u001b[39;49m\u001b[38;5;124;43mnew_app\u001b[39;49m\u001b[38;5;124;43m\"\u001b[39;49m\u001b[43m)\u001b[49m\n\u001b[1;32m      8\u001b[0m \u001b[38;5;66;03m# Use the new app explicitly when creating a database reference\u001b[39;00m\n\u001b[1;32m      9\u001b[0m new_app \u001b[38;5;241m=\u001b[39m firebase_admin\u001b[38;5;241m.\u001b[39mget_app(\u001b[38;5;124m\"\u001b[39m\u001b[38;5;124mnew_app\u001b[39m\u001b[38;5;124m\"\u001b[39m)\n",
      "File \u001b[0;32m~/Desktop/Module3/openvino_notebooks/recipes/automated_self_checkout/venv/lib/python3.8/site-packages/firebase_admin/__init__.py:82\u001b[0m, in \u001b[0;36minitialize_app\u001b[0;34m(credential, options, name)\u001b[0m\n\u001b[1;32m     73\u001b[0m \u001b[38;5;28;01mif\u001b[39;00m name \u001b[38;5;241m==\u001b[39m _DEFAULT_APP_NAME:\n\u001b[1;32m     74\u001b[0m     \u001b[38;5;28;01mraise\u001b[39;00m \u001b[38;5;167;01mValueError\u001b[39;00m((\n\u001b[1;32m     75\u001b[0m         \u001b[38;5;124m'\u001b[39m\u001b[38;5;124mThe default Firebase app already exists. This means you called \u001b[39m\u001b[38;5;124m'\u001b[39m\n\u001b[1;32m     76\u001b[0m         \u001b[38;5;124m'\u001b[39m\u001b[38;5;124minitialize_app() more than once without providing an app name as \u001b[39m\u001b[38;5;124m'\u001b[39m\n\u001b[0;32m   (...)\u001b[0m\n\u001b[1;32m     79\u001b[0m         \u001b[38;5;124m'\u001b[39m\u001b[38;5;124mapps, pass a second argument to initialize_app() to give each app \u001b[39m\u001b[38;5;124m'\u001b[39m\n\u001b[1;32m     80\u001b[0m         \u001b[38;5;124m'\u001b[39m\u001b[38;5;124ma unique name.\u001b[39m\u001b[38;5;124m'\u001b[39m))\n\u001b[0;32m---> 82\u001b[0m \u001b[38;5;28;01mraise\u001b[39;00m \u001b[38;5;167;01mValueError\u001b[39;00m((\n\u001b[1;32m     83\u001b[0m     \u001b[38;5;124m'\u001b[39m\u001b[38;5;124mFirebase app named \u001b[39m\u001b[38;5;124m\"\u001b[39m\u001b[38;5;132;01m{0}\u001b[39;00m\u001b[38;5;124m\"\u001b[39m\u001b[38;5;124m already exists. This means you called \u001b[39m\u001b[38;5;124m'\u001b[39m\n\u001b[1;32m     84\u001b[0m     \u001b[38;5;124m'\u001b[39m\u001b[38;5;124minitialize_app() more than once with the same app name as the \u001b[39m\u001b[38;5;124m'\u001b[39m\n\u001b[1;32m     85\u001b[0m     \u001b[38;5;124m'\u001b[39m\u001b[38;5;124msecond argument. Make sure you provide a unique name every time \u001b[39m\u001b[38;5;124m'\u001b[39m\n\u001b[1;32m     86\u001b[0m     \u001b[38;5;124m'\u001b[39m\u001b[38;5;124myou call initialize_app().\u001b[39m\u001b[38;5;124m'\u001b[39m)\u001b[38;5;241m.\u001b[39mformat(name))\n",
      "\u001b[0;31mValueError\u001b[0m: Firebase app named \"new_app\" already exists. This means you called initialize_app() more than once with the same app name as the second argument. Make sure you provide a unique name every time you call initialize_app()."
     ]
    }
   ],
   "source": [
    "import firebase_admin\n",
    "from firebase_admin import credentials, db\n",
    "# Reinitialize a new Firebase app with a unique name\n",
    "cred = credentials.Certificate('/Users/huraira/Desktop/Module3/openvino_notebooks/fbis-19de1-firebase-adminsdk-idgon-e51fea33fe.json')\n",
    "firebase_admin.initialize_app(cred, {\n",
    "    \"databaseURL\": \"https://fbis-19de1-default-rtdb.firebaseio.com/\"\n",
    "}, name=\"new_app\")\n",
    "# Use the new app explicitly when creating a database reference\n",
    "new_app = firebase_admin.get_app(\"new_app\")\n",
    "receipts_ref = db.reference(\"receipts\", app=new_app)\n",
    "# Fetch data\n",
    "print(receipts_ref.get())  # Example: Retrieve data at \"receipts\""
   ]
  },
  {
   "cell_type": "code",
   "execution_count": 18,
   "id": "6d0e5f85-b2ee-4d23-a9e9-e522bf83d97e",
   "metadata": {
    "scrolled": true
   },
   "outputs": [
    {
     "name": "stderr",
     "output_type": "stream",
     "text": [
      "\n",
      "video 1/1 (1/640) /Users/huraira/Desktop/Module3/openvino_notebooks/recipes/automated_self_checkout/data/example.mp4: 384x640 1 bottle, 1 apple, 1164.7ms\n",
      "video 1/1 (2/640) /Users/huraira/Desktop/Module3/openvino_notebooks/recipes/automated_self_checkout/data/example.mp4: 384x640 1 bottle, 1 banana, 1 apple, 1151.8ms\n",
      "video 1/1 (3/640) /Users/huraira/Desktop/Module3/openvino_notebooks/recipes/automated_self_checkout/data/example.mp4: 384x640 1 bottle, 1 banana, 1 apple, 1137.6ms\n",
      "video 1/1 (4/640) /Users/huraira/Desktop/Module3/openvino_notebooks/recipes/automated_self_checkout/data/example.mp4: 384x640 1 bottle, 1 banana, 1 apple, 1149.7ms\n",
      "video 1/1 (5/640) /Users/huraira/Desktop/Module3/openvino_notebooks/recipes/automated_self_checkout/data/example.mp4: 384x640 1 bottle, 1 banana, 1 apple, 1168.0ms\n",
      "video 1/1 (6/640) /Users/huraira/Desktop/Module3/openvino_notebooks/recipes/automated_self_checkout/data/example.mp4: 384x640 1 bottle, 1 banana, 1 apple, 1138.1ms\n",
      "video 1/1 (7/640) /Users/huraira/Desktop/Module3/openvino_notebooks/recipes/automated_self_checkout/data/example.mp4: 384x640 1 bottle, 1 banana, 1 apple, 1132.3ms\n",
      "video 1/1 (8/640) /Users/huraira/Desktop/Module3/openvino_notebooks/recipes/automated_self_checkout/data/example.mp4: 384x640 1 bottle, 1 banana, 1 apple, 1128.8ms\n",
      "video 1/1 (9/640) /Users/huraira/Desktop/Module3/openvino_notebooks/recipes/automated_self_checkout/data/example.mp4: 384x640 1 bottle, 1 banana, 1 apple, 1135.8ms\n",
      "video 1/1 (10/640) /Users/huraira/Desktop/Module3/openvino_notebooks/recipes/automated_self_checkout/data/example.mp4: 384x640 1 bottle, 1 banana, 1 apple, 1131.4ms\n",
      "video 1/1 (11/640) /Users/huraira/Desktop/Module3/openvino_notebooks/recipes/automated_self_checkout/data/example.mp4: 384x640 1 bottle, 1 banana, 1 apple, 1132.6ms\n",
      "video 1/1 (12/640) /Users/huraira/Desktop/Module3/openvino_notebooks/recipes/automated_self_checkout/data/example.mp4: 384x640 1 bottle, 1 banana, 1 apple, 1133.9ms\n",
      "video 1/1 (13/640) /Users/huraira/Desktop/Module3/openvino_notebooks/recipes/automated_self_checkout/data/example.mp4: 384x640 1 bottle, 1 banana, 1 apple, 1144.7ms\n",
      "video 1/1 (14/640) /Users/huraira/Desktop/Module3/openvino_notebooks/recipes/automated_self_checkout/data/example.mp4: 384x640 1 bottle, 1 banana, 1 apple, 1153.9ms\n",
      "video 1/1 (15/640) /Users/huraira/Desktop/Module3/openvino_notebooks/recipes/automated_self_checkout/data/example.mp4: 384x640 1 bottle, 1 banana, 1 apple, 1146.9ms\n",
      "video 1/1 (16/640) /Users/huraira/Desktop/Module3/openvino_notebooks/recipes/automated_self_checkout/data/example.mp4: 384x640 1 bottle, 1 banana, 1 apple, 1147.6ms\n",
      "video 1/1 (17/640) /Users/huraira/Desktop/Module3/openvino_notebooks/recipes/automated_self_checkout/data/example.mp4: 384x640 1 bottle, 1 banana, 1 apple, 1180.8ms\n",
      "video 1/1 (18/640) /Users/huraira/Desktop/Module3/openvino_notebooks/recipes/automated_self_checkout/data/example.mp4: 384x640 1 bottle, 1 banana, 1 apple, 1142.5ms\n",
      "video 1/1 (19/640) /Users/huraira/Desktop/Module3/openvino_notebooks/recipes/automated_self_checkout/data/example.mp4: 384x640 1 person, 1 bottle, 1 banana, 1 apple, 1140.7ms\n",
      "video 1/1 (20/640) /Users/huraira/Desktop/Module3/openvino_notebooks/recipes/automated_self_checkout/data/example.mp4: 384x640 1 person, 1 bottle, 1 banana, 1 apple, 1139.7ms\n",
      "video 1/1 (21/640) /Users/huraira/Desktop/Module3/openvino_notebooks/recipes/automated_self_checkout/data/example.mp4: 384x640 1 person, 1 bottle, 1 banana, 1 apple, 1132.4ms\n",
      "video 1/1 (22/640) /Users/huraira/Desktop/Module3/openvino_notebooks/recipes/automated_self_checkout/data/example.mp4: 384x640 1 person, 1 bottle, 1 banana, 1 apple, 1136.5ms\n",
      "video 1/1 (23/640) /Users/huraira/Desktop/Module3/openvino_notebooks/recipes/automated_self_checkout/data/example.mp4: 384x640 1 person, 1 bottle, 1 banana, 1 apple, 1166.5ms\n"
     ]
    }
   ],
   "source": [
    "#Define empty lists to keep track of labels\n",
    "original_labels = []\n",
    "final_labels = []\n",
    "person_bbox = []\n",
    "p_items = []\n",
    "purchased_items = set(p_items)\n",
    "a_items = []\n",
    "added_items = set(a_items)\n",
    "\n",
    "# Dictionary to store persistent tracking state of objects\n",
    "object_tracking_state = {}\n",
    "#Save result as det_tracking_result\n",
    "with sv.VideoSink(\"new_det_tracking_result2.mp4\", video_info) as sink:\n",
    "    #Iterate through model predictions and tracking results\n",
    "    for index, result in enumerate(model.track(source=VID_PATH, show=False, classes =[0,39,46,47], tracker = \"bytetrack.yaml\", stream=True, verbose=True, persist=True)):\n",
    "      #Define variables to store interactions that are refreshed per frame\n",
    "      interactions = []\n",
    "      person_intersection_str = \"\"\n",
    "\n",
    "      #Obtain predictions from yolov8 model\n",
    "      frame = result.orig_img\n",
    "      detections = sv.Detections.from_ultralytics(result)\n",
    "      detections = detections[detections.class_id < 55]\n",
    "      mask = zone.trigger(detections=detections)\n",
    "      detections_filtered = detections[mask]\n",
    "      bboxes = result.boxes\n",
    "      \n",
    "      # Ensure tracking IDs are assigned and filter for recognized IDs if any are specified\n",
    "      if bboxes.id is not None:\n",
    "          detections.tracker_id = bboxes.id.cpu().numpy().astype(int)\n",
    "          \n",
    "          # If recognized_ids is not empty, filter detections\n",
    "    \n",
    "      labels = [\n",
    "          f'#{tracker_id} {label_map[class_id]} {confidence:0.2f}'\n",
    "          for _, _, confidence, class_id, tracker_id\n",
    "          in detections\n",
    "      ]\n",
    "\n",
    "      #Annotate the frame with the zone and bounding boxes.\n",
    "      frame = box_annotator.annotate(scene=frame, detections=detections_filtered, labels=labels)\n",
    "      frame = zone_annotator.annotate(scene=frame)\n",
    "\n",
    "      # Create objects list with tracking IDs and class names\n",
    "      objects = [f'#{tracker_id} {label_map[class_id]}' for _, _, _, class_id, tracker_id in detections]\n",
    "      \n",
    "      # Track current frame's objects\n",
    "      current_frame_objects = {\n",
    "          f'#{tracker_id} {label_map[class_id]}': label_map[class_id] \n",
    "          for _, _, _, class_id, tracker_id in detections\n",
    "      }\n",
    "\n",
    "      #If this is the first time we run the application,\n",
    "      #store the objects' labels as they are at the beginning\n",
    "      if index == 0:\n",
    "          original_labels = objects\n",
    "          original_dets = len(detections_filtered)\n",
    "          # Initialize tracking state for first frame\n",
    "          for obj in objects:\n",
    "              object_tracking_state[obj] = True\n",
    "          continue\n",
    "\n",
    "      #To identify if an object has been added or removed\n",
    "      #we'll use the original labels and identify any changes\n",
    "      final_labels = objects\n",
    "      new_dets = len(detections_filtered)\n",
    "      \n",
    "      #Create two variables we can increment for drawing text\n",
    "      draw_txt_ir = 1\n",
    "      draw_txt_ia = 1\n",
    "      \n",
    "      # Update tracking state for existing objects\n",
    "      for obj in original_labels:\n",
    "          # Mark objects as not in current frame if they're no longer detected\n",
    "          if obj not in final_labels:\n",
    "              object_tracking_state[obj] = False\n",
    "\n",
    "      # Check for objects being added or removed\n",
    "      for obj in original_labels:\n",
    "          # Check if object has been removed from the frame\n",
    "          if not object_tracking_state.get(obj, False):\n",
    "              # Ignore person objects\n",
    "              if 'person' not in obj:\n",
    "                  # Extract class name (without tracking ID)\n",
    "                  class_name = obj.split(' ', 2)[-1]\n",
    "                  \n",
    "                  removed_object_str = f\"1 {class_name} removed from zone\"\n",
    "                  removed_action_str = intersecting_bboxes(bboxes, person_bbox, removed_object_str)\n",
    "                  \n",
    "                  if removed_action_str is not None:\n",
    "                      log.info(removed_action_str)\n",
    "                      # Add to purchased items using class name\n",
    "                      if class_name not in purchased_items:\n",
    "                          purchased_items.add(class_name)\n",
    "                          p_items.append(f\" - {class_name}\") \n",
    "                      # Draw the result on the screen        \n",
    "                      draw_text(frame, text=removed_action_str, point=(50, 50 + draw_txt_ir), color=(0, 0, 255))\n",
    "                      draw_txt_ir += 80\n",
    "\n",
    "      # Check for newly added objects\n",
    "      for obj in final_labels:\n",
    "          # Check if this is a new object or newly visible object\n",
    "          if obj not in original_labels:\n",
    "              # Ignore person objects\n",
    "              class_name = obj.split(' ', 2)[-1]\n",
    "              \n",
    "              if 'person' not in class_name:\n",
    "                  added_object_str = f\"1 {class_name} added to zone\"\n",
    "                  added_action_str = intersecting_bboxes(bboxes, person_bbox, added_object_str)\n",
    "                  \n",
    "                  if added_action_str is not None:\n",
    "                      log.info(added_action_str)\n",
    "                      # Remove from purchased items if it was previously purchased\n",
    "                      if class_name in purchased_items:\n",
    "                          purchased_items.remove(class_name)\n",
    "                          \n",
    "                            \n",
    "                      # Draw the result on the screen  \n",
    "                      draw_text(frame, text=added_action_str, point=(50, 300 + draw_txt_ia), color=(0, 128, 0))\n",
    "                      draw_txt_ia += 80\n",
    "\n",
    "      # Update tracking state for current frame objects\n",
    "      for obj in final_labels:\n",
    "          object_tracking_state[obj] = True\n",
    "      \n",
    "      # Update original labels for next iteration\n",
    "      original_labels = final_labels\n",
    "\n",
    "      original_dets = new_dets\n",
    "      receipt_data = {\n",
    "        \"yZkhYZJTlaXB03jrBXNHUthsvoN2\": {  # You can dynamically change the person ID as needed\n",
    "           \"items\": list(purchased_items),\n",
    "           \"timestamp\": index  # Use frame index or you could use a proper timestamp\n",
    "    }\n",
    "}\n",
    "\n",
    "      \n",
    "      receipts_ref.set(receipt_data)\n",
    "      \n",
    "      draw_text(frame, \"Receipt: \" + str(purchased_items), point=(50, 800), color=(30, 144, 255))\n",
    "      sink.write_frame(frame)"
   ]
  },
  {
   "cell_type": "code",
   "execution_count": 30,
   "id": "36af19bd-bd35-4587-b118-4814f2140d9d",
   "metadata": {},
   "outputs": [
    {
     "data": {
      "text/plain": [
       "\"Receipt: {'apple'}\""
      ]
     },
     "execution_count": 30,
     "metadata": {},
     "output_type": "execute_result"
    }
   ],
   "source": [
    "\"Receipt: \" + str(purchased_items)"
   ]
  },
  {
   "cell_type": "code",
   "execution_count": 32,
   "id": "5bb93c6a-7a71-4ed1-97ef-45baa2717e9a",
   "metadata": {},
   "outputs": [
    {
     "data": {
      "text/plain": [
       "Counter({'#145 bottle': 1, '#154 apple': 1, '#155 banana': 1})"
      ]
     },
     "execution_count": 32,
     "metadata": {},
     "output_type": "execute_result"
    }
   ],
   "source": [
    "added_objects"
   ]
  },
  {
   "cell_type": "code",
   "execution_count": null,
   "id": "9c7ac121-9b7d-44cf-b401-9d06f8ce8a47",
   "metadata": {},
   "outputs": [],
   "source": []
  }
 ],
 "metadata": {
  "kernelspec": {
   "display_name": "Python (myenv)",
   "language": "python",
   "name": "myenv"
  },
  "language_info": {
   "codemirror_mode": {
    "name": "ipython",
    "version": 3
   },
   "file_extension": ".py",
   "mimetype": "text/x-python",
   "name": "python",
   "nbconvert_exporter": "python",
   "pygments_lexer": "ipython3",
   "version": "3.8.0"
  }
 },
 "nbformat": 4,
 "nbformat_minor": 5
}
